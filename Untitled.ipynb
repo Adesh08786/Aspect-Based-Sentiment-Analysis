{
 "cells": [
  {
   "cell_type": "code",
   "execution_count": 1,
   "metadata": {},
   "outputs": [
    {
     "name": "stderr",
     "output_type": "stream",
     "text": [
      "/home/vibha/miniconda2/lib/python2.7/site-packages/pandas/_libs/__init__.py:4: RuntimeWarning: numpy.dtype size changed, may indicate binary incompatibility. Expected 96, got 88\n",
      "  from .tslib import iNaT, NaT, Timestamp, Timedelta, OutOfBoundsDatetime\n",
      "/home/vibha/miniconda2/lib/python2.7/site-packages/pandas/__init__.py:26: RuntimeWarning: numpy.dtype size changed, may indicate binary incompatibility. Expected 96, got 88\n",
      "  from pandas._libs import (hashtable as _hashtable,\n",
      "/home/vibha/miniconda2/lib/python2.7/site-packages/pandas/core/dtypes/common.py:6: RuntimeWarning: numpy.dtype size changed, may indicate binary incompatibility. Expected 96, got 88\n",
      "  from pandas._libs import algos, lib\n",
      "/home/vibha/miniconda2/lib/python2.7/site-packages/pandas/core/util/hashing.py:7: RuntimeWarning: numpy.dtype size changed, may indicate binary incompatibility. Expected 96, got 88\n",
      "  from pandas._libs import hashing, tslib\n",
      "/home/vibha/miniconda2/lib/python2.7/site-packages/pandas/core/indexes/base.py:7: RuntimeWarning: numpy.dtype size changed, may indicate binary incompatibility. Expected 96, got 88\n",
      "  from pandas._libs import (lib, index as libindex, tslib as libts,\n",
      "/home/vibha/miniconda2/lib/python2.7/site-packages/pandas/tseries/offsets.py:21: RuntimeWarning: numpy.dtype size changed, may indicate binary incompatibility. Expected 96, got 88\n",
      "  import pandas._libs.tslibs.offsets as liboffsets\n",
      "/home/vibha/miniconda2/lib/python2.7/site-packages/pandas/core/ops.py:16: RuntimeWarning: numpy.dtype size changed, may indicate binary incompatibility. Expected 96, got 88\n",
      "  from pandas._libs import algos as libalgos, ops as libops\n",
      "/home/vibha/miniconda2/lib/python2.7/site-packages/pandas/core/indexes/interval.py:32: RuntimeWarning: numpy.dtype size changed, may indicate binary incompatibility. Expected 96, got 88\n",
      "  from pandas._libs.interval import (\n",
      "/home/vibha/miniconda2/lib/python2.7/site-packages/pandas/core/internals.py:14: RuntimeWarning: numpy.dtype size changed, may indicate binary incompatibility. Expected 96, got 88\n",
      "  from pandas._libs import internals as libinternals\n",
      "/home/vibha/miniconda2/lib/python2.7/site-packages/pandas/core/sparse/array.py:33: RuntimeWarning: numpy.dtype size changed, may indicate binary incompatibility. Expected 96, got 88\n",
      "  import pandas._libs.sparse as splib\n",
      "/home/vibha/miniconda2/lib/python2.7/site-packages/pandas/core/window.py:36: RuntimeWarning: numpy.dtype size changed, may indicate binary incompatibility. Expected 96, got 88\n",
      "  import pandas._libs.window as _window\n",
      "/home/vibha/miniconda2/lib/python2.7/site-packages/pandas/core/groupby/groupby.py:68: RuntimeWarning: numpy.dtype size changed, may indicate binary incompatibility. Expected 96, got 88\n",
      "  from pandas._libs import (lib, reduction,\n",
      "/home/vibha/miniconda2/lib/python2.7/site-packages/pandas/core/reshape/reshape.py:30: RuntimeWarning: numpy.dtype size changed, may indicate binary incompatibility. Expected 96, got 88\n",
      "  from pandas._libs import algos as _algos, reshape as _reshape\n",
      "/home/vibha/miniconda2/lib/python2.7/site-packages/pandas/io/parsers.py:45: RuntimeWarning: numpy.dtype size changed, may indicate binary incompatibility. Expected 96, got 88\n",
      "  import pandas._libs.parsers as parsers\n",
      "/home/vibha/miniconda2/lib/python2.7/site-packages/pandas/io/pytables.py:50: RuntimeWarning: numpy.dtype size changed, may indicate binary incompatibility. Expected 96, got 88\n",
      "  from pandas._libs import algos, lib, writers as libwriters\n",
      "/home/vibha/miniconda2/lib/python2.7/site-packages/sklearn/utils/__init__.py:12: RuntimeWarning: numpy.dtype size changed, may indicate binary incompatibility. Expected 96, got 88\n",
      "  from .murmurhash import murmurhash3_32\n",
      "/home/vibha/miniconda2/lib/python2.7/site-packages/sklearn/feature_extraction/hashing.py:14: RuntimeWarning: numpy.dtype size changed, may indicate binary incompatibility. Expected 96, got 88\n",
      "  from ._hashing import transform as _hashing_transform\n",
      "/home/vibha/miniconda2/lib/python2.7/site-packages/sklearn/utils/extmath.py:23: RuntimeWarning: numpy.dtype size changed, may indicate binary incompatibility. Expected 96, got 88\n",
      "  from ._logistic_sigmoid import _log_logistic_sigmoid\n",
      "/home/vibha/miniconda2/lib/python2.7/site-packages/sklearn/utils/extmath.py:25: RuntimeWarning: numpy.dtype size changed, may indicate binary incompatibility. Expected 96, got 88\n",
      "  from .sparsefuncs_fast import csr_row_norms\n",
      "/home/vibha/miniconda2/lib/python2.7/site-packages/sklearn/utils/random.py:10: RuntimeWarning: numpy.dtype size changed, may indicate binary incompatibility. Expected 96, got 88\n",
      "  from ._random import sample_without_replacement\n",
      "/home/vibha/miniconda2/lib/python2.7/site-packages/sklearn/datasets/svmlight_format.py:32: RuntimeWarning: numpy.dtype size changed, may indicate binary incompatibility. Expected 96, got 88\n",
      "  from ._svmlight_format import _load_svmlight_file\n",
      "/home/vibha/miniconda2/lib/python2.7/site-packages/sklearn/svm/base.py:8: RuntimeWarning: numpy.dtype size changed, may indicate binary incompatibility. Expected 96, got 88\n",
      "  from . import libsvm, liblinear\n",
      "/home/vibha/miniconda2/lib/python2.7/site-packages/sklearn/svm/base.py:9: RuntimeWarning: numpy.dtype size changed, may indicate binary incompatibility. Expected 96, got 88\n",
      "  from . import libsvm_sparse\n",
      "/home/vibha/miniconda2/lib/python2.7/site-packages/sklearn/linear_model/base.py:35: RuntimeWarning: numpy.dtype size changed, may indicate binary incompatibility. Expected 96, got 88\n",
      "  from ..utils.seq_dataset import ArrayDataset, CSRDataset\n",
      "/home/vibha/miniconda2/lib/python2.7/site-packages/sklearn/linear_model/least_angle.py:23: RuntimeWarning: numpy.dtype size changed, may indicate binary incompatibility. Expected 96, got 88\n",
      "  from ..utils import arrayfuncs, as_float_array, check_X_y, deprecated\n",
      "/home/vibha/miniconda2/lib/python2.7/site-packages/sklearn/metrics/cluster/supervised.py:25: RuntimeWarning: numpy.dtype size changed, may indicate binary incompatibility. Expected 96, got 88\n",
      "  from .expected_mutual_info_fast import expected_mutual_information\n",
      "/home/vibha/miniconda2/lib/python2.7/site-packages/sklearn/metrics/pairwise.py:31: RuntimeWarning: numpy.dtype size changed, may indicate binary incompatibility. Expected 96, got 88\n",
      "  from .pairwise_fast import _chi2_kernel_fast, _sparse_manhattan\n",
      "/home/vibha/miniconda2/lib/python2.7/site-packages/sklearn/linear_model/coordinate_descent.py:30: RuntimeWarning: numpy.dtype size changed, may indicate binary incompatibility. Expected 96, got 88\n",
      "  from . import cd_fast\n",
      "/home/vibha/miniconda2/lib/python2.7/site-packages/sklearn/linear_model/__init__.py:22: RuntimeWarning: numpy.dtype size changed, may indicate binary incompatibility. Expected 96, got 88\n",
      "  from .sgd_fast import Hinge, Log, ModifiedHuber, SquaredLoss, Huber\n",
      "/home/vibha/miniconda2/lib/python2.7/site-packages/sklearn/linear_model/sag.py:12: RuntimeWarning: numpy.dtype size changed, may indicate binary incompatibility. Expected 96, got 88\n",
      "  from .sag_fast import sag\n",
      "/home/vibha/miniconda2/lib/python2.7/site-packages/sklearn/neighbors/__init__.py:6: RuntimeWarning: numpy.dtype size changed, may indicate binary incompatibility. Expected 96, got 88\n",
      "  from .ball_tree import BallTree\n",
      "/home/vibha/miniconda2/lib/python2.7/site-packages/sklearn/neighbors/__init__.py:7: RuntimeWarning: numpy.dtype size changed, may indicate binary incompatibility. Expected 96, got 88\n",
      "  from .kd_tree import KDTree\n"
     ]
    }
   ],
   "source": [
    "import pandas as pd\n",
    "import nltk\n",
    "from nltk import word_tokenize"
   ]
  },
  {
   "cell_type": "code",
   "execution_count": 67,
   "metadata": {},
   "outputs": [],
   "source": [
    "sen=\"the food was best but serving was worst\""
   ]
  },
  {
   "cell_type": "code",
   "execution_count": 68,
   "metadata": {},
   "outputs": [],
   "source": [
    "sen=word_tokenize(sen)"
   ]
  },
  {
   "cell_type": "code",
   "execution_count": 69,
   "metadata": {},
   "outputs": [
    {
     "data": {
      "text/plain": [
       "['the', 'food', 'was', 'best', 'but', 'serving', 'was', 'worst']"
      ]
     },
     "execution_count": 69,
     "metadata": {},
     "output_type": "execute_result"
    }
   ],
   "source": [
    "sen\n"
   ]
  },
  {
   "cell_type": "code",
   "execution_count": 70,
   "metadata": {},
   "outputs": [],
   "source": [
    "df=pd.DataFrame(sen,columns=['word'])\n",
    "df['stopword']=0\n",
    "df['pos_tag']=''\n"
   ]
  },
  {
   "cell_type": "code",
   "execution_count": 71,
   "metadata": {},
   "outputs": [],
   "source": [
    "from nltk.corpus import stopwords\n",
    "a=set(stopwords.words('english'))"
   ]
  },
  {
   "cell_type": "code",
   "execution_count": 72,
   "metadata": {},
   "outputs": [],
   "source": [
    "df['word_len']=0"
   ]
  },
  {
   "cell_type": "code",
   "execution_count": 73,
   "metadata": {},
   "outputs": [
    {
     "data": {
      "text/html": [
       "<div>\n",
       "<style scoped>\n",
       "    .dataframe tbody tr th:only-of-type {\n",
       "        vertical-align: middle;\n",
       "    }\n",
       "\n",
       "    .dataframe tbody tr th {\n",
       "        vertical-align: top;\n",
       "    }\n",
       "\n",
       "    .dataframe thead th {\n",
       "        text-align: right;\n",
       "    }\n",
       "</style>\n",
       "<table border=\"1\" class=\"dataframe\">\n",
       "  <thead>\n",
       "    <tr style=\"text-align: right;\">\n",
       "      <th></th>\n",
       "      <th>word</th>\n",
       "      <th>stopword</th>\n",
       "      <th>pos_tag</th>\n",
       "      <th>word_len</th>\n",
       "    </tr>\n",
       "  </thead>\n",
       "  <tbody>\n",
       "    <tr>\n",
       "      <th>0</th>\n",
       "      <td>the</td>\n",
       "      <td>0</td>\n",
       "      <td></td>\n",
       "      <td>0</td>\n",
       "    </tr>\n",
       "    <tr>\n",
       "      <th>1</th>\n",
       "      <td>food</td>\n",
       "      <td>0</td>\n",
       "      <td></td>\n",
       "      <td>0</td>\n",
       "    </tr>\n",
       "    <tr>\n",
       "      <th>2</th>\n",
       "      <td>was</td>\n",
       "      <td>0</td>\n",
       "      <td></td>\n",
       "      <td>0</td>\n",
       "    </tr>\n",
       "    <tr>\n",
       "      <th>3</th>\n",
       "      <td>best</td>\n",
       "      <td>0</td>\n",
       "      <td></td>\n",
       "      <td>0</td>\n",
       "    </tr>\n",
       "    <tr>\n",
       "      <th>4</th>\n",
       "      <td>but</td>\n",
       "      <td>0</td>\n",
       "      <td></td>\n",
       "      <td>0</td>\n",
       "    </tr>\n",
       "    <tr>\n",
       "      <th>5</th>\n",
       "      <td>serving</td>\n",
       "      <td>0</td>\n",
       "      <td></td>\n",
       "      <td>0</td>\n",
       "    </tr>\n",
       "    <tr>\n",
       "      <th>6</th>\n",
       "      <td>was</td>\n",
       "      <td>0</td>\n",
       "      <td></td>\n",
       "      <td>0</td>\n",
       "    </tr>\n",
       "    <tr>\n",
       "      <th>7</th>\n",
       "      <td>worst</td>\n",
       "      <td>0</td>\n",
       "      <td></td>\n",
       "      <td>0</td>\n",
       "    </tr>\n",
       "  </tbody>\n",
       "</table>\n",
       "</div>"
      ],
      "text/plain": [
       "      word  stopword pos_tag  word_len\n",
       "0      the         0                 0\n",
       "1     food         0                 0\n",
       "2      was         0                 0\n",
       "3     best         0                 0\n",
       "4      but         0                 0\n",
       "5  serving         0                 0\n",
       "6      was         0                 0\n",
       "7    worst         0                 0"
      ]
     },
     "execution_count": 73,
     "metadata": {},
     "output_type": "execute_result"
    }
   ],
   "source": [
    "df"
   ]
  },
  {
   "cell_type": "code",
   "execution_count": 74,
   "metadata": {},
   "outputs": [
    {
     "name": "stderr",
     "output_type": "stream",
     "text": [
      "/home/vibha/miniconda2/lib/python2.7/site-packages/ipykernel_launcher.py:3: SettingWithCopyWarning: \n",
      "A value is trying to be set on a copy of a slice from a DataFrame\n",
      "\n",
      "See the caveats in the documentation: http://pandas.pydata.org/pandas-docs/stable/indexing.html#indexing-view-versus-copy\n",
      "  This is separate from the ipykernel package so we can avoid doing imports until\n",
      "/home/vibha/miniconda2/lib/python2.7/site-packages/ipykernel_launcher.py:13: SettingWithCopyWarning: \n",
      "A value is trying to be set on a copy of a slice from a DataFrame\n",
      "\n",
      "See the caveats in the documentation: http://pandas.pydata.org/pandas-docs/stable/indexing.html#indexing-view-versus-copy\n",
      "  del sys.path[0]\n",
      "/home/vibha/miniconda2/lib/python2.7/site-packages/ipykernel_launcher.py:7: SettingWithCopyWarning: \n",
      "A value is trying to be set on a copy of a slice from a DataFrame\n",
      "\n",
      "See the caveats in the documentation: http://pandas.pydata.org/pandas-docs/stable/indexing.html#indexing-view-versus-copy\n",
      "  import sys\n",
      "/home/vibha/miniconda2/lib/python2.7/site-packages/ipykernel_launcher.py:11: SettingWithCopyWarning: \n",
      "A value is trying to be set on a copy of a slice from a DataFrame\n",
      "\n",
      "See the caveats in the documentation: http://pandas.pydata.org/pandas-docs/stable/indexing.html#indexing-view-versus-copy\n",
      "  # This is added back by InteractiveShellApp.init_path()\n"
     ]
    }
   ],
   "source": [
    "for i in range(0,len(df)):\n",
    "    if (df['word'][i]) in a:\n",
    "        df['stopword'][i]=1\n",
    "        \n",
    "        \n",
    "    else:\n",
    "        df['stopword'][i]=0\n",
    "        \n",
    "        \n",
    "    if(len(df['word'][i])>3):\n",
    "        df['word_len'][i]=1\n",
    "    else:\n",
    "        df['word_len'][i]=0"
   ]
  },
  {
   "cell_type": "code",
   "execution_count": 75,
   "metadata": {},
   "outputs": [
    {
     "data": {
      "text/html": [
       "<div>\n",
       "<style scoped>\n",
       "    .dataframe tbody tr th:only-of-type {\n",
       "        vertical-align: middle;\n",
       "    }\n",
       "\n",
       "    .dataframe tbody tr th {\n",
       "        vertical-align: top;\n",
       "    }\n",
       "\n",
       "    .dataframe thead th {\n",
       "        text-align: right;\n",
       "    }\n",
       "</style>\n",
       "<table border=\"1\" class=\"dataframe\">\n",
       "  <thead>\n",
       "    <tr style=\"text-align: right;\">\n",
       "      <th></th>\n",
       "      <th>word</th>\n",
       "      <th>stopword</th>\n",
       "      <th>pos_tag</th>\n",
       "      <th>word_len</th>\n",
       "    </tr>\n",
       "  </thead>\n",
       "  <tbody>\n",
       "    <tr>\n",
       "      <th>0</th>\n",
       "      <td>the</td>\n",
       "      <td>1</td>\n",
       "      <td></td>\n",
       "      <td>0</td>\n",
       "    </tr>\n",
       "    <tr>\n",
       "      <th>1</th>\n",
       "      <td>food</td>\n",
       "      <td>0</td>\n",
       "      <td></td>\n",
       "      <td>1</td>\n",
       "    </tr>\n",
       "    <tr>\n",
       "      <th>2</th>\n",
       "      <td>was</td>\n",
       "      <td>1</td>\n",
       "      <td></td>\n",
       "      <td>0</td>\n",
       "    </tr>\n",
       "    <tr>\n",
       "      <th>3</th>\n",
       "      <td>best</td>\n",
       "      <td>0</td>\n",
       "      <td></td>\n",
       "      <td>1</td>\n",
       "    </tr>\n",
       "    <tr>\n",
       "      <th>4</th>\n",
       "      <td>but</td>\n",
       "      <td>1</td>\n",
       "      <td></td>\n",
       "      <td>0</td>\n",
       "    </tr>\n",
       "    <tr>\n",
       "      <th>5</th>\n",
       "      <td>serving</td>\n",
       "      <td>0</td>\n",
       "      <td></td>\n",
       "      <td>1</td>\n",
       "    </tr>\n",
       "    <tr>\n",
       "      <th>6</th>\n",
       "      <td>was</td>\n",
       "      <td>1</td>\n",
       "      <td></td>\n",
       "      <td>0</td>\n",
       "    </tr>\n",
       "    <tr>\n",
       "      <th>7</th>\n",
       "      <td>worst</td>\n",
       "      <td>0</td>\n",
       "      <td></td>\n",
       "      <td>1</td>\n",
       "    </tr>\n",
       "  </tbody>\n",
       "</table>\n",
       "</div>"
      ],
      "text/plain": [
       "      word  stopword pos_tag  word_len\n",
       "0      the         1                 0\n",
       "1     food         0                 1\n",
       "2      was         1                 0\n",
       "3     best         0                 1\n",
       "4      but         1                 0\n",
       "5  serving         0                 1\n",
       "6      was         1                 0\n",
       "7    worst         0                 1"
      ]
     },
     "execution_count": 75,
     "metadata": {},
     "output_type": "execute_result"
    }
   ],
   "source": [
    "df"
   ]
  },
  {
   "cell_type": "code",
   "execution_count": 76,
   "metadata": {},
   "outputs": [],
   "source": [
    "post_tag=nltk.pos_tag(sen\n",
    "                     )"
   ]
  },
  {
   "cell_type": "code",
   "execution_count": 77,
   "metadata": {},
   "outputs": [
    {
     "data": {
      "text/plain": [
       "'DT'"
      ]
     },
     "execution_count": 77,
     "metadata": {},
     "output_type": "execute_result"
    }
   ],
   "source": [
    "post_tag[0][1]\n"
   ]
  },
  {
   "cell_type": "code",
   "execution_count": 78,
   "metadata": {},
   "outputs": [],
   "source": [
    "df['pos_tag']=post_tag"
   ]
  },
  {
   "cell_type": "code",
   "execution_count": 79,
   "metadata": {},
   "outputs": [
    {
     "data": {
      "text/html": [
       "<div>\n",
       "<style scoped>\n",
       "    .dataframe tbody tr th:only-of-type {\n",
       "        vertical-align: middle;\n",
       "    }\n",
       "\n",
       "    .dataframe tbody tr th {\n",
       "        vertical-align: top;\n",
       "    }\n",
       "\n",
       "    .dataframe thead th {\n",
       "        text-align: right;\n",
       "    }\n",
       "</style>\n",
       "<table border=\"1\" class=\"dataframe\">\n",
       "  <thead>\n",
       "    <tr style=\"text-align: right;\">\n",
       "      <th></th>\n",
       "      <th>word</th>\n",
       "      <th>stopword</th>\n",
       "      <th>pos_tag</th>\n",
       "      <th>word_len</th>\n",
       "    </tr>\n",
       "  </thead>\n",
       "  <tbody>\n",
       "    <tr>\n",
       "      <th>0</th>\n",
       "      <td>the</td>\n",
       "      <td>1</td>\n",
       "      <td>(the, DT)</td>\n",
       "      <td>0</td>\n",
       "    </tr>\n",
       "    <tr>\n",
       "      <th>1</th>\n",
       "      <td>food</td>\n",
       "      <td>0</td>\n",
       "      <td>(food, NN)</td>\n",
       "      <td>1</td>\n",
       "    </tr>\n",
       "    <tr>\n",
       "      <th>2</th>\n",
       "      <td>was</td>\n",
       "      <td>1</td>\n",
       "      <td>(was, VBD)</td>\n",
       "      <td>0</td>\n",
       "    </tr>\n",
       "    <tr>\n",
       "      <th>3</th>\n",
       "      <td>best</td>\n",
       "      <td>0</td>\n",
       "      <td>(best, RBS)</td>\n",
       "      <td>1</td>\n",
       "    </tr>\n",
       "    <tr>\n",
       "      <th>4</th>\n",
       "      <td>but</td>\n",
       "      <td>1</td>\n",
       "      <td>(but, CC)</td>\n",
       "      <td>0</td>\n",
       "    </tr>\n",
       "    <tr>\n",
       "      <th>5</th>\n",
       "      <td>serving</td>\n",
       "      <td>0</td>\n",
       "      <td>(serving, VBG)</td>\n",
       "      <td>1</td>\n",
       "    </tr>\n",
       "    <tr>\n",
       "      <th>6</th>\n",
       "      <td>was</td>\n",
       "      <td>1</td>\n",
       "      <td>(was, VBD)</td>\n",
       "      <td>0</td>\n",
       "    </tr>\n",
       "    <tr>\n",
       "      <th>7</th>\n",
       "      <td>worst</td>\n",
       "      <td>0</td>\n",
       "      <td>(worst, JJS)</td>\n",
       "      <td>1</td>\n",
       "    </tr>\n",
       "  </tbody>\n",
       "</table>\n",
       "</div>"
      ],
      "text/plain": [
       "      word  stopword         pos_tag  word_len\n",
       "0      the         1       (the, DT)         0\n",
       "1     food         0      (food, NN)         1\n",
       "2      was         1      (was, VBD)         0\n",
       "3     best         0     (best, RBS)         1\n",
       "4      but         1       (but, CC)         0\n",
       "5  serving         0  (serving, VBG)         1\n",
       "6      was         1      (was, VBD)         0\n",
       "7    worst         0    (worst, JJS)         1"
      ]
     },
     "execution_count": 79,
     "metadata": {},
     "output_type": "execute_result"
    }
   ],
   "source": [
    "df"
   ]
  },
  {
   "cell_type": "code",
   "execution_count": 80,
   "metadata": {},
   "outputs": [
    {
     "name": "stdout",
     "output_type": "stream",
     "text": [
      "0\n",
      "1\n",
      "2\n",
      "3\n",
      "4\n",
      "5\n",
      "6\n"
     ]
    }
   ],
   "source": [
    "next_l=[]\n",
    "k=0\n",
    "for i in range(0,len(sen)-1):\n",
    "    print i\n",
    "    next_l.append(sen[i+1])\n",
    "    \n"
   ]
  },
  {
   "cell_type": "code",
   "execution_count": 81,
   "metadata": {},
   "outputs": [],
   "source": [
    "next_l.append(\"\")"
   ]
  },
  {
   "cell_type": "code",
   "execution_count": 82,
   "metadata": {},
   "outputs": [
    {
     "data": {
      "text/plain": [
       "['food', 'was', 'best', 'but', 'serving', 'was', 'worst', '']"
      ]
     },
     "execution_count": 82,
     "metadata": {},
     "output_type": "execute_result"
    }
   ],
   "source": [
    "next_l"
   ]
  },
  {
   "cell_type": "code",
   "execution_count": 83,
   "metadata": {},
   "outputs": [],
   "source": [
    "df['next_words']=\"\""
   ]
  },
  {
   "cell_type": "code",
   "execution_count": 84,
   "metadata": {},
   "outputs": [],
   "source": [
    "df['next_words']=next_l"
   ]
  },
  {
   "cell_type": "code",
   "execution_count": 85,
   "metadata": {},
   "outputs": [],
   "source": [
    "df['prev_words']=\"\"\n",
    "prev=[]\n"
   ]
  },
  {
   "cell_type": "code",
   "execution_count": 86,
   "metadata": {},
   "outputs": [],
   "source": [
    "prev.append(\"\")\n",
    "\n"
   ]
  },
  {
   "cell_type": "code",
   "execution_count": 87,
   "metadata": {},
   "outputs": [
    {
     "name": "stdout",
     "output_type": "stream",
     "text": [
      "1\n",
      "food\n",
      "2\n",
      "was\n",
      "3\n",
      "best\n",
      "4\n",
      "but\n",
      "5\n",
      "serving\n",
      "6\n",
      "was\n",
      "7\n",
      "worst\n"
     ]
    }
   ],
   "source": [
    "for i in range(1,len(sen)):\n",
    "    print i\n",
    "    print sen[i]\n",
    "    prev.append(sen[i-1])\n"
   ]
  },
  {
   "cell_type": "code",
   "execution_count": 88,
   "metadata": {},
   "outputs": [
    {
     "data": {
      "text/plain": [
       "['', 'the', 'food', 'was', 'best', 'but', 'serving', 'was']"
      ]
     },
     "execution_count": 88,
     "metadata": {},
     "output_type": "execute_result"
    }
   ],
   "source": [
    "prev"
   ]
  },
  {
   "cell_type": "code",
   "execution_count": 89,
   "metadata": {},
   "outputs": [],
   "source": [
    "df['prev_words']=prev"
   ]
  },
  {
   "cell_type": "code",
   "execution_count": 90,
   "metadata": {},
   "outputs": [
    {
     "data": {
      "text/html": [
       "<div>\n",
       "<style scoped>\n",
       "    .dataframe tbody tr th:only-of-type {\n",
       "        vertical-align: middle;\n",
       "    }\n",
       "\n",
       "    .dataframe tbody tr th {\n",
       "        vertical-align: top;\n",
       "    }\n",
       "\n",
       "    .dataframe thead th {\n",
       "        text-align: right;\n",
       "    }\n",
       "</style>\n",
       "<table border=\"1\" class=\"dataframe\">\n",
       "  <thead>\n",
       "    <tr style=\"text-align: right;\">\n",
       "      <th></th>\n",
       "      <th>word</th>\n",
       "      <th>stopword</th>\n",
       "      <th>pos_tag</th>\n",
       "      <th>word_len</th>\n",
       "      <th>next_words</th>\n",
       "      <th>prev_words</th>\n",
       "    </tr>\n",
       "  </thead>\n",
       "  <tbody>\n",
       "    <tr>\n",
       "      <th>0</th>\n",
       "      <td>the</td>\n",
       "      <td>1</td>\n",
       "      <td>(the, DT)</td>\n",
       "      <td>0</td>\n",
       "      <td>food</td>\n",
       "      <td></td>\n",
       "    </tr>\n",
       "    <tr>\n",
       "      <th>1</th>\n",
       "      <td>food</td>\n",
       "      <td>0</td>\n",
       "      <td>(food, NN)</td>\n",
       "      <td>1</td>\n",
       "      <td>was</td>\n",
       "      <td>the</td>\n",
       "    </tr>\n",
       "    <tr>\n",
       "      <th>2</th>\n",
       "      <td>was</td>\n",
       "      <td>1</td>\n",
       "      <td>(was, VBD)</td>\n",
       "      <td>0</td>\n",
       "      <td>best</td>\n",
       "      <td>food</td>\n",
       "    </tr>\n",
       "    <tr>\n",
       "      <th>3</th>\n",
       "      <td>best</td>\n",
       "      <td>0</td>\n",
       "      <td>(best, RBS)</td>\n",
       "      <td>1</td>\n",
       "      <td>but</td>\n",
       "      <td>was</td>\n",
       "    </tr>\n",
       "    <tr>\n",
       "      <th>4</th>\n",
       "      <td>but</td>\n",
       "      <td>1</td>\n",
       "      <td>(but, CC)</td>\n",
       "      <td>0</td>\n",
       "      <td>serving</td>\n",
       "      <td>best</td>\n",
       "    </tr>\n",
       "    <tr>\n",
       "      <th>5</th>\n",
       "      <td>serving</td>\n",
       "      <td>0</td>\n",
       "      <td>(serving, VBG)</td>\n",
       "      <td>1</td>\n",
       "      <td>was</td>\n",
       "      <td>but</td>\n",
       "    </tr>\n",
       "    <tr>\n",
       "      <th>6</th>\n",
       "      <td>was</td>\n",
       "      <td>1</td>\n",
       "      <td>(was, VBD)</td>\n",
       "      <td>0</td>\n",
       "      <td>worst</td>\n",
       "      <td>serving</td>\n",
       "    </tr>\n",
       "    <tr>\n",
       "      <th>7</th>\n",
       "      <td>worst</td>\n",
       "      <td>0</td>\n",
       "      <td>(worst, JJS)</td>\n",
       "      <td>1</td>\n",
       "      <td></td>\n",
       "      <td>was</td>\n",
       "    </tr>\n",
       "  </tbody>\n",
       "</table>\n",
       "</div>"
      ],
      "text/plain": [
       "      word  stopword         pos_tag  word_len next_words prev_words\n",
       "0      the         1       (the, DT)         0       food           \n",
       "1     food         0      (food, NN)         1        was        the\n",
       "2      was         1      (was, VBD)         0       best       food\n",
       "3     best         0     (best, RBS)         1        but        was\n",
       "4      but         1       (but, CC)         0    serving       best\n",
       "5  serving         0  (serving, VBG)         1        was        but\n",
       "6      was         1      (was, VBD)         0      worst    serving\n",
       "7    worst         0    (worst, JJS)         1                   was"
      ]
     },
     "execution_count": 90,
     "metadata": {},
     "output_type": "execute_result"
    }
   ],
   "source": [
    "df"
   ]
  },
  {
   "cell_type": "code",
   "execution_count": 91,
   "metadata": {},
   "outputs": [],
   "source": [
    "df['pre_word_tag']=\"\"\n",
    "df['post_word_tag']=\"\"\n"
   ]
  },
  {
   "cell_type": "code",
   "execution_count": 93,
   "metadata": {},
   "outputs": [
    {
     "name": "stdout",
     "output_type": "stream",
     "text": [
      "<open file '~/stanford-parser-2012-11-12/lexparser.sh ~/stanford-parser-2012-11-12/stanfordtemp.txt', mode 'r' at 0x7f433088c8a0>\n",
      "(ROOT\n",
      "\n",
      "  (S\n",
      "\n",
      "    (NP (DT the) (NN food))\n",
      "\n",
      "    (VP (VBD was)\n",
      "\n",
      "      (NP\n",
      "\n",
      "        (NP (JJS best))\n",
      "\n",
      "        (PP (CC but)\n",
      "\n",
      "          (S\n",
      "\n",
      "            (VP (VBG serving)\n",
      "\n",
      "              (SBAR\n",
      "\n",
      "                (S\n",
      "\n",
      "                  (VP (VBD was)\n",
      "\n",
      "                    (ADJP (JJS worst))))))))))))\n",
      "\n",
      "\n",
      "\n",
      "det(food-2, the-1)\n",
      "\n",
      "nsubj(best-4, food-2)\n",
      "\n",
      "cop(best-4, was-3)\n",
      "\n",
      "root(ROOT-0, best-4)\n",
      "\n",
      "prep(best-4, but-5)\n",
      "\n",
      "dep(but-5, serving-6)\n",
      "\n",
      "cop(worst-8, was-7)\n",
      "\n",
      "ccomp(serving-6, worst-8)\n",
      "\n",
      "\n",
      "\n"
     ]
    }
   ],
   "source": [
    "import os\n",
    "a=os.popen(\"echo '\"+\"the food was best but serving was worst\"+\"' > ~/stanford-parser-2012-11-12/stanfordtemp.txt\")\n",
    "parser_out = os.popen(\"~/stanford-parser-2012-11-12/lexparser.sh ~/stanford-parser-2012-11-12/stanfordtemp.txt\")\n",
    "print parser_out\n",
    "for relation in parser_out:\n",
    "    print(relation)"
   ]
  },
  {
   "cell_type": "code",
   "execution_count": 94,
   "metadata": {},
   "outputs": [
    {
     "name": "stdout",
     "output_type": "stream",
     "text": [
      "the food\n",
      "best but serving was worst\n",
      "best\n"
     ]
    }
   ],
   "source": [
    "from nltk.tree import Tree\n",
    "\n",
    "examples = [\n",
    "    '(ROOT (S (NP (DT the) (NN food)) (VP (VBD was) (NP (NP (JJS best)) (PP (CC but) (S (VP (VBG serving) (SBAR (S (VP (VBD was) (ADJP (JJS worst))))))))))))'\n",
    "]\n",
    "head_word=[]\n",
    "\n",
    "def find_noun_phrases(tree):\n",
    "    return [subtree for subtree in tree.subtrees(lambda t: t.label()=='NP')]\n",
    "\n",
    "def find_head_of_np(np):\n",
    "    noun_tags = ['NN', 'NNS', 'NNP', 'NNPS']\n",
    "    top_level_trees = [np[i] for i in range(len(np)) if type(np[i]) is Tree]\n",
    "    ## search for a top-level noun\n",
    "    top_level_nouns = [t for t in top_level_trees if t.label() in noun_tags]\n",
    "    if len(top_level_nouns) > 0:\n",
    "        ## if you find some, pick the rightmost one, just 'cause\n",
    "        return top_level_nouns[-1][0]\n",
    "    else:\n",
    "        ## search for a top-level np\n",
    "        top_level_nps = [t for t in top_level_trees if t.label()=='NP']\n",
    "        if len(top_level_nps) > 0:\n",
    "            ## if you find some, pick the head of the rightmost one, just 'cause\n",
    "            return find_head_of_np(top_level_nps[-1])\n",
    "        else:\n",
    "            ## search for any noun\n",
    "            nouns = [p[0] for p in np.pos() if p[1] in noun_tags]\n",
    "            if len(nouns) > 0:\n",
    "                ## if you find some, pick the rightmost one, just 'cause\n",
    "                return nouns[-1]\n",
    "            else:\n",
    "                ## return the rightmost word, just 'cause\n",
    "                return np.leaves()[-1]\n",
    "\n",
    "for example in examples:\n",
    "    tree = Tree.fromstring(example)\n",
    "    for np in find_noun_phrases(tree):\n",
    "       \n",
    "        print \" \".join(np.leaves())\n",
    "        head = find_head_of_np(np)\n",
    "        \n",
    "        if head not in head_word:\n",
    "            \n",
    "            head_word.append(head)\n",
    "        "
   ]
  },
  {
   "cell_type": "code",
   "execution_count": 95,
   "metadata": {
    "scrolled": true
   },
   "outputs": [
    {
     "data": {
      "text/plain": [
       "['food', 'best']"
      ]
     },
     "execution_count": 95,
     "metadata": {},
     "output_type": "execute_result"
    }
   ],
   "source": [
    "head_word"
   ]
  },
  {
   "cell_type": "code",
   "execution_count": 96,
   "metadata": {},
   "outputs": [
    {
     "data": {
      "text/plain": [
       "('the', 'DT')"
      ]
     },
     "execution_count": 96,
     "metadata": {},
     "output_type": "execute_result"
    }
   ],
   "source": [
    "post_tag[0]"
   ]
  },
  {
   "cell_type": "code",
   "execution_count": 97,
   "metadata": {},
   "outputs": [],
   "source": [
    "df['head_word']=0\n",
    "pos_pre=[]\n",
    "pos_pre.append(\"\")\n",
    "pos_post=[]\n",
    "for i in range(0,len(post_tag)-1):\n",
    "    pos_post.append(post_tag[i+1])\n",
    "pos_post.append(\"\")\n",
    "\n",
    "for i in range(1,len(post_tag)):\n",
    "    pos_pre.append(post_tag[i-1])\n",
    "\n",
    "df['pre_word_tag']=pos_pre\n",
    "df['post_word_tag']=pos_post\n",
    "\n"
   ]
  },
  {
   "cell_type": "code",
   "execution_count": 98,
   "metadata": {},
   "outputs": [
    {
     "name": "stderr",
     "output_type": "stream",
     "text": [
      "/home/vibha/miniconda2/lib/python2.7/site-packages/ipykernel_launcher.py:10: SettingWithCopyWarning: \n",
      "A value is trying to be set on a copy of a slice from a DataFrame\n",
      "\n",
      "See the caveats in the documentation: http://pandas.pydata.org/pandas-docs/stable/indexing.html#indexing-view-versus-copy\n",
      "  # Remove the CWD from sys.path while we load stuff.\n",
      "/home/vibha/miniconda2/lib/python2.7/site-packages/ipykernel_launcher.py:8: SettingWithCopyWarning: \n",
      "A value is trying to be set on a copy of a slice from a DataFrame\n",
      "\n",
      "See the caveats in the documentation: http://pandas.pydata.org/pandas-docs/stable/indexing.html#indexing-view-versus-copy\n",
      "  \n"
     ]
    },
    {
     "name": "stdout",
     "output_type": "stream",
     "text": [
      "food\n",
      "best\n"
     ]
    }
   ],
   "source": [
    "\n",
    "for i in range(0,len(df)):\n",
    "   \n",
    "        \n",
    "\n",
    "    if (df['word'][i]) in head_word:\n",
    "        print df['word'][i]\n",
    "        df['head_word'][i]=1\n",
    "    else:\n",
    "        df['head_word'][i]=0\n",
    "        "
   ]
  },
  {
   "cell_type": "code",
   "execution_count": 99,
   "metadata": {},
   "outputs": [
    {
     "data": {
      "text/html": [
       "<div>\n",
       "<style scoped>\n",
       "    .dataframe tbody tr th:only-of-type {\n",
       "        vertical-align: middle;\n",
       "    }\n",
       "\n",
       "    .dataframe tbody tr th {\n",
       "        vertical-align: top;\n",
       "    }\n",
       "\n",
       "    .dataframe thead th {\n",
       "        text-align: right;\n",
       "    }\n",
       "</style>\n",
       "<table border=\"1\" class=\"dataframe\">\n",
       "  <thead>\n",
       "    <tr style=\"text-align: right;\">\n",
       "      <th></th>\n",
       "      <th>word</th>\n",
       "      <th>stopword</th>\n",
       "      <th>pos_tag</th>\n",
       "      <th>word_len</th>\n",
       "      <th>next_words</th>\n",
       "      <th>prev_words</th>\n",
       "      <th>pre_word_tag</th>\n",
       "      <th>post_word_tag</th>\n",
       "      <th>head_word</th>\n",
       "    </tr>\n",
       "  </thead>\n",
       "  <tbody>\n",
       "    <tr>\n",
       "      <th>0</th>\n",
       "      <td>the</td>\n",
       "      <td>1</td>\n",
       "      <td>(the, DT)</td>\n",
       "      <td>0</td>\n",
       "      <td>food</td>\n",
       "      <td></td>\n",
       "      <td></td>\n",
       "      <td>(food, NN)</td>\n",
       "      <td>0</td>\n",
       "    </tr>\n",
       "    <tr>\n",
       "      <th>1</th>\n",
       "      <td>food</td>\n",
       "      <td>0</td>\n",
       "      <td>(food, NN)</td>\n",
       "      <td>1</td>\n",
       "      <td>was</td>\n",
       "      <td>the</td>\n",
       "      <td>(the, DT)</td>\n",
       "      <td>(was, VBD)</td>\n",
       "      <td>1</td>\n",
       "    </tr>\n",
       "    <tr>\n",
       "      <th>2</th>\n",
       "      <td>was</td>\n",
       "      <td>1</td>\n",
       "      <td>(was, VBD)</td>\n",
       "      <td>0</td>\n",
       "      <td>best</td>\n",
       "      <td>food</td>\n",
       "      <td>(food, NN)</td>\n",
       "      <td>(best, RBS)</td>\n",
       "      <td>0</td>\n",
       "    </tr>\n",
       "    <tr>\n",
       "      <th>3</th>\n",
       "      <td>best</td>\n",
       "      <td>0</td>\n",
       "      <td>(best, RBS)</td>\n",
       "      <td>1</td>\n",
       "      <td>but</td>\n",
       "      <td>was</td>\n",
       "      <td>(was, VBD)</td>\n",
       "      <td>(but, CC)</td>\n",
       "      <td>1</td>\n",
       "    </tr>\n",
       "    <tr>\n",
       "      <th>4</th>\n",
       "      <td>but</td>\n",
       "      <td>1</td>\n",
       "      <td>(but, CC)</td>\n",
       "      <td>0</td>\n",
       "      <td>serving</td>\n",
       "      <td>best</td>\n",
       "      <td>(best, RBS)</td>\n",
       "      <td>(serving, VBG)</td>\n",
       "      <td>0</td>\n",
       "    </tr>\n",
       "    <tr>\n",
       "      <th>5</th>\n",
       "      <td>serving</td>\n",
       "      <td>0</td>\n",
       "      <td>(serving, VBG)</td>\n",
       "      <td>1</td>\n",
       "      <td>was</td>\n",
       "      <td>but</td>\n",
       "      <td>(but, CC)</td>\n",
       "      <td>(was, VBD)</td>\n",
       "      <td>0</td>\n",
       "    </tr>\n",
       "    <tr>\n",
       "      <th>6</th>\n",
       "      <td>was</td>\n",
       "      <td>1</td>\n",
       "      <td>(was, VBD)</td>\n",
       "      <td>0</td>\n",
       "      <td>worst</td>\n",
       "      <td>serving</td>\n",
       "      <td>(serving, VBG)</td>\n",
       "      <td>(worst, JJS)</td>\n",
       "      <td>0</td>\n",
       "    </tr>\n",
       "    <tr>\n",
       "      <th>7</th>\n",
       "      <td>worst</td>\n",
       "      <td>0</td>\n",
       "      <td>(worst, JJS)</td>\n",
       "      <td>1</td>\n",
       "      <td></td>\n",
       "      <td>was</td>\n",
       "      <td>(was, VBD)</td>\n",
       "      <td></td>\n",
       "      <td>0</td>\n",
       "    </tr>\n",
       "  </tbody>\n",
       "</table>\n",
       "</div>"
      ],
      "text/plain": [
       "      word  stopword         pos_tag  word_len next_words prev_words  \\\n",
       "0      the         1       (the, DT)         0       food              \n",
       "1     food         0      (food, NN)         1        was        the   \n",
       "2      was         1      (was, VBD)         0       best       food   \n",
       "3     best         0     (best, RBS)         1        but        was   \n",
       "4      but         1       (but, CC)         0    serving       best   \n",
       "5  serving         0  (serving, VBG)         1        was        but   \n",
       "6      was         1      (was, VBD)         0      worst    serving   \n",
       "7    worst         0    (worst, JJS)         1                   was   \n",
       "\n",
       "     pre_word_tag   post_word_tag  head_word  \n",
       "0                      (food, NN)          0  \n",
       "1       (the, DT)      (was, VBD)          1  \n",
       "2      (food, NN)     (best, RBS)          0  \n",
       "3      (was, VBD)       (but, CC)          1  \n",
       "4     (best, RBS)  (serving, VBG)          0  \n",
       "5       (but, CC)      (was, VBD)          0  \n",
       "6  (serving, VBG)    (worst, JJS)          0  \n",
       "7      (was, VBD)                          0  "
      ]
     },
     "execution_count": 99,
     "metadata": {},
     "output_type": "execute_result"
    }
   ],
   "source": [
    "df"
   ]
  },
  {
   "cell_type": "code",
   "execution_count": 181,
   "metadata": {},
   "outputs": [
    {
     "name": "stdout",
     "output_type": "stream",
     "text": [
      "well\n",
      "well\n",
      "well\n",
      "well\n",
      "well\n",
      "well\n",
      "well\n",
      "well\n"
     ]
    }
   ],
   "source": [
    "t1=\"she is serving food in the restaurant\"\n",
    "from nltk.stem import WordNetLemmatizer \n",
    "  \n",
    "lemmatizer = WordNetLemmatizer() \n",
    "for i in range(0,len(sen)):\n",
    "  \n",
    "    print(lemmatizer.lemmatize('better','r'))"
   ]
  },
  {
   "cell_type": "code",
   "execution_count": 175,
   "metadata": {},
   "outputs": [],
   "source": [
    "from nltk.corpus import wordnet\n",
    "\n",
    "morphy_tag = {'NN':wordnet.NOUN,'JJS':wordnet.ADJ,'VBD':wordnet.VERB,'RBS':wordnet.ADV,'VBG':wordnet.VERB}"
   ]
  },
  {
   "cell_type": "code",
   "execution_count": 176,
   "metadata": {},
   "outputs": [
    {
     "data": {
      "text/plain": [
       "{'JJS': u'a', 'NN': u'n', 'RBS': u'r', 'VBD': u'v', 'VBG': u'v'}"
      ]
     },
     "execution_count": 176,
     "metadata": {},
     "output_type": "execute_result"
    }
   ],
   "source": [
    "morphy_tag"
   ]
  },
  {
   "cell_type": "code",
   "execution_count": 177,
   "metadata": {},
   "outputs": [
    {
     "name": "stdout",
     "output_type": "stream",
     "text": [
      "NN\n",
      "n\n",
      "VBD\n",
      "v\n",
      "RBS\n",
      "r\n",
      "VBG\n",
      "v\n",
      "VBD\n",
      "v\n",
      "JJS\n",
      "a\n"
     ]
    }
   ],
   "source": [
    "t1=\"she is serving food in the restaurant\"\n",
    "df['lematized_words']='NULL'\n",
    "lema=[]\n",
    "from nltk.stem import WordNetLemmatizer \n",
    "  \n",
    "lemmatizer = WordNetLemmatizer() \n",
    "for i in range(0,len(sen)):\n",
    "    c=post_tag[i][1]\n",
    "    for name in morphy_tag.keys():\n",
    "        if name == c:\n",
    "            print name\n",
    "            new=morphy_tag[name]\n",
    "            print new\n",
    "    lema.append(lemmatizer.lemmatize(post_tag[i][0],new))\n"
   ]
  },
  {
   "cell_type": "code",
   "execution_count": 178,
   "metadata": {},
   "outputs": [
    {
     "data": {
      "text/plain": [
       "['the', 'food', u'be', 'best', 'but', u'serve', u'be', u'bad']"
      ]
     },
     "execution_count": 178,
     "metadata": {},
     "output_type": "execute_result"
    }
   ],
   "source": [
    "lema"
   ]
  },
  {
   "cell_type": "code",
   "execution_count": 179,
   "metadata": {},
   "outputs": [],
   "source": [
    "df['lematized_words']=lema"
   ]
  },
  {
   "cell_type": "code",
   "execution_count": 180,
   "metadata": {},
   "outputs": [
    {
     "data": {
      "text/html": [
       "<div>\n",
       "<style scoped>\n",
       "    .dataframe tbody tr th:only-of-type {\n",
       "        vertical-align: middle;\n",
       "    }\n",
       "\n",
       "    .dataframe tbody tr th {\n",
       "        vertical-align: top;\n",
       "    }\n",
       "\n",
       "    .dataframe thead th {\n",
       "        text-align: right;\n",
       "    }\n",
       "</style>\n",
       "<table border=\"1\" class=\"dataframe\">\n",
       "  <thead>\n",
       "    <tr style=\"text-align: right;\">\n",
       "      <th></th>\n",
       "      <th>word</th>\n",
       "      <th>stopword</th>\n",
       "      <th>pos_tag</th>\n",
       "      <th>word_len</th>\n",
       "      <th>next_words</th>\n",
       "      <th>prev_words</th>\n",
       "      <th>pre_word_tag</th>\n",
       "      <th>post_word_tag</th>\n",
       "      <th>head_word</th>\n",
       "      <th>lematized_words</th>\n",
       "    </tr>\n",
       "  </thead>\n",
       "  <tbody>\n",
       "    <tr>\n",
       "      <th>0</th>\n",
       "      <td>the</td>\n",
       "      <td>1</td>\n",
       "      <td>(the, DT)</td>\n",
       "      <td>0</td>\n",
       "      <td>food</td>\n",
       "      <td></td>\n",
       "      <td></td>\n",
       "      <td>(food, NN)</td>\n",
       "      <td>0</td>\n",
       "      <td>the</td>\n",
       "    </tr>\n",
       "    <tr>\n",
       "      <th>1</th>\n",
       "      <td>food</td>\n",
       "      <td>0</td>\n",
       "      <td>(food, NN)</td>\n",
       "      <td>1</td>\n",
       "      <td>was</td>\n",
       "      <td>the</td>\n",
       "      <td>(the, DT)</td>\n",
       "      <td>(was, VBD)</td>\n",
       "      <td>1</td>\n",
       "      <td>food</td>\n",
       "    </tr>\n",
       "    <tr>\n",
       "      <th>2</th>\n",
       "      <td>was</td>\n",
       "      <td>1</td>\n",
       "      <td>(was, VBD)</td>\n",
       "      <td>0</td>\n",
       "      <td>best</td>\n",
       "      <td>food</td>\n",
       "      <td>(food, NN)</td>\n",
       "      <td>(best, RBS)</td>\n",
       "      <td>0</td>\n",
       "      <td>be</td>\n",
       "    </tr>\n",
       "    <tr>\n",
       "      <th>3</th>\n",
       "      <td>best</td>\n",
       "      <td>0</td>\n",
       "      <td>(best, RBS)</td>\n",
       "      <td>1</td>\n",
       "      <td>but</td>\n",
       "      <td>was</td>\n",
       "      <td>(was, VBD)</td>\n",
       "      <td>(but, CC)</td>\n",
       "      <td>1</td>\n",
       "      <td>best</td>\n",
       "    </tr>\n",
       "    <tr>\n",
       "      <th>4</th>\n",
       "      <td>but</td>\n",
       "      <td>1</td>\n",
       "      <td>(but, CC)</td>\n",
       "      <td>0</td>\n",
       "      <td>serving</td>\n",
       "      <td>best</td>\n",
       "      <td>(best, RBS)</td>\n",
       "      <td>(serving, VBG)</td>\n",
       "      <td>0</td>\n",
       "      <td>but</td>\n",
       "    </tr>\n",
       "    <tr>\n",
       "      <th>5</th>\n",
       "      <td>serving</td>\n",
       "      <td>0</td>\n",
       "      <td>(serving, VBG)</td>\n",
       "      <td>1</td>\n",
       "      <td>was</td>\n",
       "      <td>but</td>\n",
       "      <td>(but, CC)</td>\n",
       "      <td>(was, VBD)</td>\n",
       "      <td>0</td>\n",
       "      <td>serve</td>\n",
       "    </tr>\n",
       "    <tr>\n",
       "      <th>6</th>\n",
       "      <td>was</td>\n",
       "      <td>1</td>\n",
       "      <td>(was, VBD)</td>\n",
       "      <td>0</td>\n",
       "      <td>worst</td>\n",
       "      <td>serving</td>\n",
       "      <td>(serving, VBG)</td>\n",
       "      <td>(worst, JJS)</td>\n",
       "      <td>0</td>\n",
       "      <td>be</td>\n",
       "    </tr>\n",
       "    <tr>\n",
       "      <th>7</th>\n",
       "      <td>worst</td>\n",
       "      <td>0</td>\n",
       "      <td>(worst, JJS)</td>\n",
       "      <td>1</td>\n",
       "      <td></td>\n",
       "      <td>was</td>\n",
       "      <td>(was, VBD)</td>\n",
       "      <td></td>\n",
       "      <td>0</td>\n",
       "      <td>bad</td>\n",
       "    </tr>\n",
       "  </tbody>\n",
       "</table>\n",
       "</div>"
      ],
      "text/plain": [
       "      word  stopword         pos_tag  word_len next_words prev_words  \\\n",
       "0      the         1       (the, DT)         0       food              \n",
       "1     food         0      (food, NN)         1        was        the   \n",
       "2      was         1      (was, VBD)         0       best       food   \n",
       "3     best         0     (best, RBS)         1        but        was   \n",
       "4      but         1       (but, CC)         0    serving       best   \n",
       "5  serving         0  (serving, VBG)         1        was        but   \n",
       "6      was         1      (was, VBD)         0      worst    serving   \n",
       "7    worst         0    (worst, JJS)         1                   was   \n",
       "\n",
       "     pre_word_tag   post_word_tag  head_word lematized_words  \n",
       "0                      (food, NN)          0             the  \n",
       "1       (the, DT)      (was, VBD)          1            food  \n",
       "2      (food, NN)     (best, RBS)          0              be  \n",
       "3      (was, VBD)       (but, CC)          1            best  \n",
       "4     (best, RBS)  (serving, VBG)          0             but  \n",
       "5       (but, CC)      (was, VBD)          0           serve  \n",
       "6  (serving, VBG)    (worst, JJS)          0              be  \n",
       "7      (was, VBD)                          0             bad  "
      ]
     },
     "execution_count": 180,
     "metadata": {},
     "output_type": "execute_result"
    }
   ],
   "source": [
    "df"
   ]
  },
  {
   "cell_type": "code",
   "execution_count": null,
   "metadata": {},
   "outputs": [],
   "source": []
  },
  {
   "cell_type": "code",
   "execution_count": null,
   "metadata": {},
   "outputs": [],
   "source": []
  }
 ],
 "metadata": {
  "kernelspec": {
   "display_name": "Python 2",
   "language": "python",
   "name": "python2"
  },
  "language_info": {
   "codemirror_mode": {
    "name": "ipython",
    "version": 2
   },
   "file_extension": ".py",
   "mimetype": "text/x-python",
   "name": "python",
   "nbconvert_exporter": "python",
   "pygments_lexer": "ipython2",
   "version": "2.7.15"
  }
 },
 "nbformat": 4,
 "nbformat_minor": 2
}
